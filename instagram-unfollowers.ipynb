{
 "cells": [
  {
   "cell_type": "code",
   "execution_count": 1,
   "metadata": {},
   "outputs": [],
   "source": [
    "from selenium import webdriver\n",
    "from selenium.webdriver.chrome.options import Options\n",
    "from selenium.webdriver.common.by import By\n",
    "from selenium.webdriver.support.ui import WebDriverWait\n",
    "from selenium.webdriver.common.keys import Keys\n",
    "from selenium.webdriver.support import expected_conditions as EC\n",
    "from selenium.webdriver.chrome.service import Service\n",
    "from webdriver_manager.chrome import ChromeDriverManager\n",
    "\n",
    "import time"
   ]
  },
  {
   "cell_type": "markdown",
   "metadata": {},
   "source": [
    "### Step 1: Log in to Instagram"
   ]
  },
  {
   "cell_type": "code",
   "execution_count": 2,
   "metadata": {},
   "outputs": [],
   "source": [
    "# Set up webdriver\n",
    "chrome_options = Options()\n",
    "# chrome_options.add_argument('--start-maximized')\n",
    "# chrome_options.add_argument(\"--disable-extensions\")\n",
    "# chrome_options.add_argument(\"--headless\")\n",
    "\n",
    "service = Service(ChromeDriverManager().install())\n",
    "driver = webdriver.Chrome(service=service, options=chrome_options)\n",
    "\n",
    "driver.get(\"https://instagram.com\") "
   ]
  },
  {
   "cell_type": "code",
   "execution_count": 3,
   "metadata": {},
   "outputs": [],
   "source": [
    "# Add account credentials\n",
    "username_ = 'username' # your Instagram username\n",
    "password_ = 'password' # your Instagram password\n",
    "\n",
    "# Locate username and password input fields\n",
    "username = WebDriverWait(driver, 10).until(EC.element_to_be_clickable((By.CSS_SELECTOR, \"input[name='username']\")))\n",
    "password = WebDriverWait(driver, 10).until(EC.element_to_be_clickable((By.CSS_SELECTOR, \"input[name='password']\")))\n",
    "\n",
    "# Input username y password\n",
    "username.send_keys(username_)\n",
    "password.send_keys(password_)\n",
    "\n",
    "# Locate 'log in' button to click on it\n",
    "button = WebDriverWait(driver, 2).until(EC.element_to_be_clickable((By.CSS_SELECTOR, \"button[type='submit']\"))).click()"
   ]
  },
  {
   "cell_type": "markdown",
   "metadata": {},
   "source": [
    "### Step 2: Extract general Instagram stats"
   ]
  },
  {
   "cell_type": "code",
   "execution_count": 5,
   "metadata": {},
   "outputs": [],
   "source": [
    "# Access your Instagram account\n",
    "account = 'https://www.instagram.com/' + username_\n",
    "driver.get(account) "
   ]
  },
  {
   "cell_type": "code",
   "execution_count": 49,
   "metadata": {},
   "outputs": [
    {
     "name": "stdout",
     "output_type": "stream",
     "text": [
      "Number of followers: 318 \n",
      "Number of following: 180\n"
     ]
    }
   ],
   "source": [
    "# Get number of followers and following\n",
    "followers_xpath = '//section/main/div/header/section[3]/ul/li[2]/div/a/span'\n",
    "following_xpath = '//section/main/div/header/section[3]/ul/li[3]/div/a/span'\n",
    "num_followers  = int(driver.find_element(By.XPATH, followers_xpath).text.replace(',', ''))\n",
    "num_following = int(driver.find_elements(By.XPATH, following_xpath)[0].text.replace(',', ''))\n",
    "\n",
    "# Print number of followers and following\n",
    "print('Number of followers:', num_followers, '\\nNumber of following:', num_following)"
   ]
  },
  {
   "cell_type": "markdown",
   "metadata": {},
   "source": [
    "### Step 3: Extract follower accounts"
   ]
  },
  {
   "cell_type": "code",
   "execution_count": 64,
   "metadata": {},
   "outputs": [],
   "source": [
    "driver.find_element(By.XPATH, followers_xpath).click()"
   ]
  },
  {
   "cell_type": "code",
   "execution_count": 65,
   "metadata": {
    "scrolled": true
   },
   "outputs": [
    {
     "name": "stdout",
     "output_type": "stream",
     "text": [
      "12\n",
      "36\n",
      "48\n",
      "60\n",
      "72\n",
      "84\n",
      "96\n",
      "108\n",
      "120\n",
      "132\n",
      "144\n",
      "156\n",
      "167\n",
      "179\n",
      "191\n",
      "202\n",
      "214\n",
      "226\n",
      "238\n",
      "250\n",
      "262\n",
      "274\n",
      "286\n",
      "298\n",
      "310\n",
      "318\n"
     ]
    }
   ],
   "source": [
    "# Detect pop-up window\n",
    "pop_up_xpath = '//html/body/div[6]/div[2]/div/div/div[1]/div/div[2]/div/div/div/div/div[2]/div/div/div[3]'\n",
    "pop_up_window = WebDriverWait(driver, 10).until(EC.element_to_be_clickable((By.XPATH, pop_up_xpath)))\n",
    "\n",
    "# Scroll through all following\n",
    "b=0\n",
    "while num_followers > b:\n",
    "    driver.execute_script('arguments[0].scrollTop = arguments[0].scrollHeight;', pop_up_window)\n",
    "    b=len(driver.find_elements(By.CLASS_NAME, '_ap3a._aaco._aacw._aacx._aad7._aade'))\n",
    "    print(b)\n",
    "    time.sleep(1)"
   ]
  },
  {
   "cell_type": "code",
   "execution_count": 67,
   "metadata": {
    "scrolled": true
   },
   "outputs": [
    {
     "name": "stdout",
     "output_type": "stream",
     "text": [
      "Followers: 318\n",
      "\n",
      " ['xet.filo', 'xander_hdz18', 'josue.qs.t9', 'alecxia0907', 'carlos_ignacio_mc', 'aldo_em68', '9_jonathanmc_6', 'sonjosue97', '0304albert', 'angueldelfinoluiscastillo', 'alex_jonathan.ch', 'alejandro.23.c', 'davi_delva', 'josephahiezer', 'iz.hell.hz', 'bry_hzael', 'juan_antonio_h.v', 'zr0ll.ggallery', 'anahyanci', 'essjonydiaz7', 'unicorny04', 'jorell_1004', 'dylanramos510', 'giov.annni8', 'diego_michel14', 'luistamay1015', 'vicente_amz', 'taylo_r8122', 'juan_albaar', 'stefanyzambrano_asesoraseguros', 'siguenza_brayan', 'kev_mks', 'brayantoledo36', 'victoraguilar.cr', 'abdell.fv', 'dante.sic', 'deivid_jf', 'oma.607', 'c4miloc4', 'noppera135', 'jass47_abi', 'anamar_1503', 'miory00', 'villa_cm07', 'jami._.99', 'deni_sxsz', 'iamjoelrs', 'opruick', 'luiscarballo889', 'victorfernandoprado', '05_____avila', 'spencer_rios_', 'sebastian_40c', 'ely.ramirez.7330763', 'sa2008_j', 'bk_ds__', 'pinto__luis', 'expresatepanda', 'david_sk9016', 'victor.rag20247', 'escamilla_110', 'soydiana.l.r', 'esteban16177', 'judajadi', 'no_soy_ese_jo', 'he.ndrick129', 'ldk_cherryvv', 'edga_rr_cruz', 'carlosflores4763', 'noemhi_grd', 'jxrgexxz', 'encino_angel', 'llnm_rm', 'sosanicolas17', 'jacobo_floresperez', 'frank.iva_sarango', 'osocar58', 'mehmhro_', 'christian_japon', 'goicocheaordinola', 'fernandoreyes6110', 'eydereuan', '_yuvinska_', 'yudy_215', 'jhonatancajaleon', 'maybe_im_diego', 'jcleivaanton', 'milanjoelc', 'axelwade4872', 'dyan.sev', 'toji_2829', 'ari79074', 'luzcemetiempo', 'ronald.ar07', 'juandanielocampon', 'jmmg_90', 'freddcvs', 'javelmsqz', 'in_mi1', 'holacucho', 'el.joseph.leyba', 'matiasbstos', 'neyserrodriguez97', 'borellymedinav', 'aldahirblacido', 'danielvillanueva26', 'yahaira.yar', 'floress_luiss_', 'kelvin_canches', 'carmen.ortiz22', 'carlos.hs_14', 'alondra.um', 'susangarcia.l', 'stefanyzambrano.22', 'jean.cerdan', 'alvaro_gt01', 'pieroleon.pe', 'jlopezcha', 'juliana.rg13', 'margiory_garcilazo', 'cris.cb31', 'renzobazanr', 'v.chilo16', 'rivasmazuelos', 'roxperti', 'hiarleyblacido_10', 'amdaniel.08', 'dorgsky', 'soledad__m_m', 'cpinedo2303882', 'leonith_97', 'trascenderme_podcast', 'yeskaroline22', 'deglan.rivas', 'brant_coral', 'jlrebosio', 'rodrigomorantetavara', '_bulma2000_', 'emely86_', 'sebasjaragarcia', 'alvaro_panta', 'ryan_herrera_19', 'cristopher.cm3', 'maricieloal12', 'paul_palacios_1497', 'jeremyzev', 'aleord.09', 'jos_maq', 'diego_fer18', 'juliocx14', 'taniagr97', 'felix.calla22', 'natynatt_20', 'briandiego21', 'lindalibertad_', 'elpulguerodeyoyo', 'walter.ch.c', 'gustaup1998', 'acxelleon', 'diego.orewp', 'nikol.cotrina', 'rodrigoag0527', 'astrid.lns', 'yo.kari', 'ry_huertas', 'luchg10', 'joas1995', 'moises_az.23', 'datuxperu', 'jorgevaryau', 'leo_anderson_cardenas', 'josue.villar', 'geralcaceresr', 'byangelsihuas', 'riofrioangel', 'jairopaolo.em', 'mabel.ct24', 'gianfrancopintobarrios', 'jazz_olanovalois', 'jheff1501', 'lesly_dc', 'yostaitcy', 'rociosotohuaman', 'rodriguezalfarobruno', 'rebe4492', 'darianamateor', 'gerardo.qo', 'valeria.escalaya', 'olgamariaclarosa', 'jose_sotoc22', 'john_ypanaque', 'nicole.jamanca', 'happy_spirit16', 'pxounido_renaceindustrial', 'liam.joan.5095', 'fernando_mh24', 'juan.mena.17', 'jose.santome', 'jeancarlo.v', 'edublacido', '_franlest_', 'zucaritas360', 'camu_chalheli', 'marcelito1628', 'joan__martos', 'jaz.shigueto', 'lovetravel.inspiration', 'jnavarrog_29', 'a.w.a.p19', 'mileee_pz', 'frangkhit', 'jaim_c29', 'roxyestrella2011', 'leo.h.phan', 'elirmzg', 'sebas_fles', 'luissotoofgh', 'luisitokiller26', 'sofia_0518_', 'torresportellaestiven', 'katydajhanna', 'adri_pq0305', 'enlaucato', 'dianav_sn', 'andrea.inche', 'hugoespinoza_98', 'sofiararaz', 'joeldavidvm', 'carzola2000', 'alexwhitfieldharms', 'lorenacustodio98', 'victor_ojeda.oficial', 'johny040896', 'ivanortizgo', 'jean_pierre_sv', 'eduardobohorquezavendano', 'marianafarfanl', 'ariaanaze', 'rosoriol1998', 'kari_milagros', 'katherine.qm18', 'bresia1701', 'rod_bazan99', 'betty.martinezll', 'alessandra.mayanga', 'hammer_musician', 'andreauc456', 'nathalie.brunot', 'marlonomar22', 'juancarlossalazar2069', 'leandro.morante', 'patrickdelacruzbueno', 'josephgdla', 'harol_rol', 'msaenz99', 'hyleesuarez', 'micheleloayza', 'vrosoly_coolface', 'ventasey', 'christian_clemb', 'ldamianparraga', 'misioprostol', 'un.tal.audi', 'juucas29', 'g.ortega99', 'ricardoarevalopi', 'cristian01_1', 'soficam9', 'marco_quinur', 'kevin_palermo_15', 'yaoham', 'mat.quel', 'minhamenina34', 'lagosangello', 'giancarlogc98', 'victorsosa1812', 'violetarondancastillo', 'marcant.vt', 'gabs.espic', 'fioramirezg', 'nataliams20', 'brayananders97', 'marcelo31298', 'luisgasbor', 'adrian_gutalv', 'freddy_choquequispe', 'fernandosarmientodz', 'dbettocontigo', 'kamily.silvah', 'v_raulandres', 'velaalegriadavid', 'albertusgoldenmaknae', 'tebantori', 'alonsopablo7', 'kevinmaikol30', 'brescia_machado', 'alvaro.ca99', 'yess.rivp', 'aesc_2023', 'camiluuuu_3', 'julio_reyes_wong_garcia', 'ddavidd1971', 'sebashurt4', 'lacangaruthlosa', 'phdkail', 'chebas2411', 'misteriosperdidos2', 'jomberlopez', 'josiascornejo', 'maik_mjhv', 'canaan__desativado', 'uchenna_ugodinaobi', 'ximenafelixch30', 'carlos.agama', '_giominola', 'gianpierrejg', 'clau_du', 'dafnedionicio']\n"
     ]
    }
   ],
   "source": [
    "# Get followers accounts\n",
    "get_followers = driver.find_elements(By.CLASS_NAME, '_ap3a._aaco._aacw._aacx._aad7._aade')\n",
    "\n",
    "followers = []\n",
    "for i in get_followers:\n",
    "    seguidor = i.text\n",
    "    followers.append(seguidor) \n",
    "print(f'Followers: {len(followers)}\\n\\n', followers)"
   ]
  },
  {
   "cell_type": "markdown",
   "metadata": {},
   "source": [
    "### Step 4: Extract following accounts"
   ]
  },
  {
   "cell_type": "code",
   "execution_count": 69,
   "metadata": {},
   "outputs": [],
   "source": [
    "# Access your Instagram account\n",
    "driver.get(account)\n",
    "WebDriverWait(driver, 10).until(EC.element_to_be_clickable((By.XPATH, following_xpath))).click()"
   ]
  },
  {
   "cell_type": "code",
   "execution_count": 70,
   "metadata": {
    "scrolled": true
   },
   "outputs": [],
   "source": [
    "# Detect pop-up window\n",
    "pop_up_xpath = '//html/body/div[6]/div[2]/div/div/div[1]/div/div[2]/div/div/div/div/div[2]/div/div/div[4]'\n",
    "pop_up_window = WebDriverWait(driver, 10).until(EC.element_to_be_clickable((By.XPATH, pop_up_xpath)))\n",
    "\n",
    "# Scroll through all following\n",
    "b=0\n",
    "while num_following > b:\n",
    "    driver.execute_script('arguments[0].scrollTop = arguments[0].scrollHeight;', pop_up_window)\n",
    "    b=len(driver.find_elements(By.CLASS_NAME, '_ap3a._aaco._aacw._aacx._aad7._aade'))\n",
    "    time.sleep(1)"
   ]
  },
  {
   "cell_type": "code",
   "execution_count": 71,
   "metadata": {
    "scrolled": true
   },
   "outputs": [
    {
     "name": "stdout",
     "output_type": "stream",
     "text": [
      "Following: 180\n",
      "\n",
      " ['jcleivaanton', 'carmen.ortiz22', 'bresia1701', 'amdaniel.08', '_giominola', 'kari_milagros', 'lesly_dc', 'jnavarrog_29', 'aldahirblacido', 'camu_chalheli', 'felix.calla22', 'alvaro_panta', 'paul_palacios_1497', 'maik_mjhv', 'un.tal.audi', 'ximenafelixch30', 'victor_ojeda.oficial', 'lindalibertad_', 'juliana.rg13', 'geralcaceresr', 'hugoespinoza_98', 'harol_rol', 'nataliams20', 'diego_fer18', 'giancarlogc98', 'ryan_herrera_19', 'ricardoarevalopi', 'marcant.vt', 'leandro.morante', 'nicole.jamanca', 'fernando_mh24', 'jairopaolo.em', 'marcelo31298', 'brant_coral', 'sebashurt4', 'juan.mena.17', 'adrian_gutalv', 'natynatt_20', 'lacangaruthlosa', 'pieroleon.pe', 'yeskaroline22', 'yo.kari', 'margiory_garcilazo', 'hyleesuarez', 'jeremyzev', 'leonith_97', 'diego.orewp', 'alvaro.ca99', 'fioramirezg', 'maricieloal12', 'valeria.escalaya', 'dafnedionicio', 'alvaro_gt01', 'nathalie.brunot', 'alexwhitfieldharms', 'riofrioangel', 'gustaup1998', 'rodriguezalfarobruno', 'jlrebosio', 'susangarcia.l', 'hammer_musician', 'soledad__m_m', 'jean_pierre_sv', 'lagosangello', 'katydajhanna', 'betty.martinezll', 'ariaanaze', 'rivasmazuelos', 'in_mi1', 'leo_anderson_cardenas', 'jheff1501', 'rodrigomorantetavara', 'micheleloayza', 'kevin_palermo_15', 'frangkhit', 'christian_clemb', 'misioprostol', 'johny040896', 'jose.santome', 'sofiararaz', 'alonsopablo7', 'v.chilo16', 'acxelleon', 'ivanortizgo', 'andrea.inche', 'minhamenina34', 'msaenz99', 'alessandra.mayanga', 'rosoriol1998', 'rod_bazan99', 'tebantori', 'clau_du', 'andreauc456', 'ry_huertas', 'renzobazanr', 'roxperti', 'ronald.ar07', 'joas1995', 'gemma.rtz', 'marlonomar22', 'dianav_sn', 'phdkail', 'yess.rivp', 'adri_pq0305', 'soficam9', 'aesc_2023', 'luisgasbor', 'vrosoly_coolface', 'juucas29', 'holacucho', 'joeldavidvm', 'moises_az.23', 'chebas2411', 'v_raulandres', 'sebas_fles', 'gabs.espic', 'yaoham', 'astrid.lns', 'carlos.agama', 'jose_sotoc22', 'fernandosarmientodz', 'lorenacustodio98', 'josephgdla', 'katherine.qm18', 'eduardobohorquezavendano', 'marcelito1628', 'yostaitcy', 'john_ypanaque', 'gerardo.qo', 'carzola2000', 'rociosotohuaman', 'sebasjaragarcia', 'juancarlossalazar2069', 'ldamianparraga', 'marianafarfanl', 'astridcflores', 'jean.cerdan', 'mabel.ct24', 'g.ortega99', 'floress_luiss_', 'hiarleyblacido_10', 'cristopher.cm3', 'luchg10', 'jaz.shigueto', 'byangelsihuas', 'jorgevaryau', 'gianpierrejg', 'lourd.art', 'willyalejor', 'alessa1012', 'briandiego21', 'ricardoac.13k', 'alejandro12.23', 'toplayandrew', 'ferordaya', 'jasminescobedorujel', 'adrianavillenainca', 'joselyneasencio', 'brandon_04_04', 'nesguivas', 'olgamariaclarosa', 'cieloantuan', 'zanahorias26', 'valeryangie', 'germanposadas1712', 'alexanderporto_', 'kelvin_canches', 'ranndalgo', 'josiascornejo', 'stephano2405', 'brayananders97', '__yemma', 'eimyportalescoronado', 'retratosimpson', 'walter.ch', 'violetarondancastillo', 'espacioccpucp', 'marco_quinur', 'pucp', 'zachking']\n"
     ]
    }
   ],
   "source": [
    "# Get following accounts\n",
    "get_following = driver.find_elements(By.CLASS_NAME, '_ap3a._aaco._aacw._aacx._aad7._aade')\n",
    "\n",
    "following = []\n",
    "for i in get_following:\n",
    "    seguido = i.text\n",
    "    following.append(seguido) \n",
    "print(f'Following: {len(following)}\\n\\n', following)"
   ]
  },
  {
   "cell_type": "markdown",
   "metadata": {},
   "source": [
    "### Step 5: Identify accounts you follow but don't follow you back"
   ]
  },
  {
   "cell_type": "code",
   "execution_count": 73,
   "metadata": {
    "scrolled": false
   },
   "outputs": [
    {
     "name": "stdout",
     "output_type": "stream",
     "text": [
      "Non followers: 28\n",
      "\n",
      "astridcflores             |  https://instagram.com/astridcflores\n",
      "valeryangie               |  https://instagram.com/valeryangie\n",
      "toplayandrew              |  https://instagram.com/toplayandrew\n",
      "retratosimpson            |  https://instagram.com/retratosimpson\n",
      "walter.ch                 |  https://instagram.com/walter.ch\n",
      "lourd.art                 |  https://instagram.com/lourd.art\n",
      "brandon_04_04             |  https://instagram.com/brandon_04_04\n",
      "alejandro12.23            |  https://instagram.com/alejandro12.23\n",
      "pucp                      |  https://instagram.com/pucp\n",
      "__yemma                   |  https://instagram.com/__yemma\n",
      "gemma.rtz                 |  https://instagram.com/gemma.rtz\n",
      "zanahorias26              |  https://instagram.com/zanahorias26\n",
      "ranndalgo                 |  https://instagram.com/ranndalgo\n",
      "stephano2405              |  https://instagram.com/stephano2405\n",
      "alessa1012                |  https://instagram.com/alessa1012\n",
      "nesguivas                 |  https://instagram.com/nesguivas\n",
      "espacioccpucp             |  https://instagram.com/espacioccpucp\n",
      "cieloantuan               |  https://instagram.com/cieloantuan\n",
      "willyalejor               |  https://instagram.com/willyalejor\n",
      "adrianavillenainca        |  https://instagram.com/adrianavillenainca\n",
      "zachking                  |  https://instagram.com/zachking\n",
      "germanposadas1712         |  https://instagram.com/germanposadas1712\n",
      "alexanderporto_           |  https://instagram.com/alexanderporto_\n",
      "eimyportalescoronado      |  https://instagram.com/eimyportalescoronado\n",
      "ricardoac.13k             |  https://instagram.com/ricardoac.13k\n",
      "ferordaya                 |  https://instagram.com/ferordaya\n",
      "jasminescobedorujel       |  https://instagram.com/jasminescobedorujel\n",
      "joselyneasencio           |  https://instagram.com/joselyneasencio\n"
     ]
    }
   ],
   "source": [
    "non_followers = list(set(following) - set(followers))\n",
    "print(f'Non followers: {len(non_followers)}\\n')\n",
    "\n",
    "for user in non_followers:\n",
    "    print(f'{user: <25} |  https://instagram.com/{user}')"
   ]
  }
 ],
 "metadata": {
  "kernelspec": {
   "display_name": "Python 3",
   "language": "python",
   "name": "python3"
  },
  "language_info": {
   "codemirror_mode": {
    "name": "ipython",
    "version": 3
   },
   "file_extension": ".py",
   "mimetype": "text/x-python",
   "name": "python",
   "nbconvert_exporter": "python",
   "pygments_lexer": "ipython3",
   "version": "3.7.4"
  }
 },
 "nbformat": 4,
 "nbformat_minor": 2
}
